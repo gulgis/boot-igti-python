{
  "nbformat": 4,
  "nbformat_minor": 0,
  "metadata": {
    "colab": {
      "name": "magic_functions.ipynb",
      "provenance": [],
      "collapsed_sections": [],
      "authorship_tag": "ABX9TyOH6Y0k2RFAXrWjcVqwqRqH",
      "include_colab_link": true
    },
    "kernelspec": {
      "name": "python3",
      "display_name": "Python 3"
    },
    "language_info": {
      "name": "python"
    }
  },
  "cells": [
    {
      "cell_type": "markdown",
      "metadata": {
        "id": "view-in-github",
        "colab_type": "text"
      },
      "source": [
        "<a href=\"https://colab.research.google.com/github/gulgis/boot-igti-python/blob/main/magic_functions.ipynb\" target=\"_parent\"><img src=\"https://colab.research.google.com/assets/colab-badge.svg\" alt=\"Open In Colab\"/></a>"
      ]
    },
    {
      "cell_type": "markdown",
      "metadata": {
        "id": "ddZOohObypdI"
      },
      "source": [
        "Magic methods"
      ]
    },
    {
      "cell_type": "code",
      "metadata": {
        "id": "ekAa0neHyn16"
      },
      "source": [
        "!pip install flake8\n"
      ],
      "execution_count": null,
      "outputs": []
    },
    {
      "cell_type": "code",
      "metadata": {
        "colab": {
          "base_uri": "https://localhost:8080/"
        },
        "id": "_R5EOzhx1efe",
        "outputId": "88e0adff-f582-4e35-81e7-e09857306b58"
      },
      "source": [
        "class Book:\n",
        "    def __init__(self, title, author, price):\n",
        "        super().__init__()\n",
        "        self.title = title\n",
        "        self.author = author\n",
        "        self.price = price\n",
        "\n",
        "    def __str__(self):\n",
        "      return f\"{self.title} by {self.author}, costs $ {self.price}\"\n",
        "\n",
        "    def __repr__(self):\n",
        "      return f\"title={self.title},author={self.author},price={self.price}\"\n",
        "\n",
        "b1 = Book(\"War and Peace\", \"Leo Tolstoy\", 39.95)\n",
        "b2 = Book(\"The Catcher in the Rye\", \"JD Salinger\", 29.95)\n",
        "\n",
        "print(str(b1))\n",
        "print(repr(b2))"
      ],
      "execution_count": 10,
      "outputs": [
        {
          "output_type": "stream",
          "text": [
            "War and Peace by Leo Tolstoy, costs $ 39.95\n",
            "title=The Catcher in the Rye,author=JD Salinger,price=29.95\n"
          ],
          "name": "stdout"
        }
      ]
    },
    {
      "cell_type": "code",
      "metadata": {
        "colab": {
          "base_uri": "https://localhost:8080/"
        },
        "id": "4YE4R50r1qe7",
        "outputId": "4a904adc-1980-4d1c-a143-493c8c466fbc"
      },
      "source": [
        "class Book:\n",
        "    def __init__(self, title, author, price):\n",
        "        super().__init__()\n",
        "        self.title = title\n",
        "        self.author = author\n",
        "        self.price = price\n",
        "\n",
        "    # the __eq__ method checks for equality between two objects\n",
        "    def __eq__(self, value):\n",
        "      if not isinstance(value, Book):\n",
        "        raise ValueError(\"Can't compare two different objects!\")\n",
        "\n",
        "      return (\n",
        "          self.title == value.title and\n",
        "          self.author == value.author and\n",
        "          self.price == value.price\n",
        "      )\n",
        "\n",
        "    # the __ge__ establishes >= relationship with another obj\n",
        "    def __ge__(self, value):\n",
        "      if not isinstance(value, Book):\n",
        "        raise ValueError(\"Can't compare two different objects!\")\n",
        "\n",
        "      return self.price >= value.price\n",
        "\n",
        "    # the __lt__ establishes < relationship with another obj\n",
        "    def __lt__(self, value):\n",
        "      if not isinstance(value, Book):\n",
        "        raise ValueError(\"Can't compare two different objects!\")\n",
        "\n",
        "      return self.price < value.price\n",
        "\n",
        "\n",
        "b1 = Book(\"War and Peace\", \"Leo Tolstoy\", 39.95)\n",
        "b2 = Book(\"The Catcher in the Rye\", \"JD Salinger\", 29.95)\n",
        "b3 = Book(\"War and Peace\", \"Leo Tolstoy\", 39.95)\n",
        "b4 = Book(\"To Kill a Mockingbird\", \"Harper Lee\", 24.95)\n",
        "\n",
        "# Check for equality\n",
        "# print(b1 == b3)\n",
        "# print(b1 == b4)\n",
        "\n",
        "\n",
        "# Check for greater and lesser value\n",
        "# print(b2 >= b1)\n",
        "# print(b2 < b1)\n",
        "\n",
        "# sort\n",
        "books = [b1, b3, b2, b4]\n",
        "books.sort()\n",
        "print([book.title for book in books])"
      ],
      "execution_count": 19,
      "outputs": [
        {
          "output_type": "stream",
          "text": [
            "['To Kill a Mockingbird', 'The Catcher in the Rye', 'War and Peace', 'War and Peace']\n"
          ],
          "name": "stdout"
        }
      ]
    },
    {
      "cell_type": "markdown",
      "metadata": {
        "id": "k6ykjIpz07QJ"
      },
      "source": [
        "**the __getattr__ version of __getattribute__:**\n",
        "\n",
        "this version of the function only gets called if the __getattribute__ version\n",
        "\n",
        "* either doesn't exist, or \n",
        "* if it throws an exception, or \n",
        "* if the attribute doesn't actually exist."
      ]
    },
    {
      "cell_type": "code",
      "metadata": {
        "colab": {
          "base_uri": "https://localhost:8080/"
        },
        "id": "uRJY8Zhu06ho",
        "outputId": "e094ce1a-57c3-42b2-ea67-90e34d6e45ea"
      },
      "source": [
        "class Book:\n",
        "    def __init__(self, title, author, price):\n",
        "        super().__init__()\n",
        "        self.title = title\n",
        "        self.author = author\n",
        "        self.price = price\n",
        "        self._discount = 0.1\n",
        "\n",
        "    def __str__(self):\n",
        "        return f\"{self.title} by {self.author}, costs ${self.price}\"\n",
        "\n",
        "    def __getattribute__(self, name):\n",
        "      if name == \"price\":\n",
        "        without_discount = super().__getattribute__(\"price\")\n",
        "        discount = super().__getattribute__(\"_discount\")\n",
        "        return without_discount - (without_discount * discount)\n",
        "      return super().__getattribute__(name)\n",
        "    \n",
        "    def __setattr__(self, name, value):\n",
        "      if name == \"price\":\n",
        "        if type(value) is not float:\n",
        "          raise ValueError(\"The price must be a float\")\n",
        "      return super().__setattr__(name, value)\n",
        "\n",
        "    def __getattr__(self, name):\n",
        "      return name + \" is not here :O\"\n",
        "\n",
        "b1 = Book(\"War and Peace\", \"Leo Tolstoy\", 39.95)\n",
        "b2 = Book(\"The Catcher in the Rye\", \"JD Salinger\", 29.95)\n",
        "\n",
        "# b1.price = float(45)\n",
        "# print(b1)\n",
        "\n",
        "# print(b1.isbn)\n"
      ],
      "execution_count": 27,
      "outputs": [
        {
          "output_type": "stream",
          "text": [
            "isbn is not here :O\n"
          ],
          "name": "stdout"
        }
      ]
    },
    {
      "cell_type": "code",
      "metadata": {
        "colab": {
          "base_uri": "https://localhost:8080/"
        },
        "id": "on0B5vNuA04p",
        "outputId": "1541fcd7-e92e-44e2-8b16-f76f005d3189"
      },
      "source": [
        "class Book:\n",
        "    def __init__(self, title, author, price):\n",
        "        super().__init__()\n",
        "        self.title = title\n",
        "        self.author = author\n",
        "        self.price = price\n",
        "\n",
        "    def __str__(self):\n",
        "        return f\"{self.title} by {self.author}, costs ${self.price}\"\n",
        "\n",
        "    # method can be used to call the object like a function\n",
        "    def __call__(self, title, author, price):\n",
        "      self.title = title\n",
        "      self.author = author\n",
        "      self.price = price\n",
        "\n",
        "\n",
        "b1 = Book(\"War and Peace\", \"Leo Tolstoy\", 39.95)\n",
        "b2 = Book(\"The Catcher in the Rye\", \"JD Salinger\", 29.95)\n",
        "\n",
        "# call the object as if it were a function\n",
        "print(b1)\n",
        "b1(\"How Democracies Die\", \"Steven Levitsky\", 27.88)\n",
        "print(b1)\n"
      ],
      "execution_count": 32,
      "outputs": [
        {
          "output_type": "stream",
          "text": [
            "War and Peace by Leo Tolstoy, costs $39.95\n",
            "How Democracies Die by Steven Levitsky, costs $27.88\n"
          ],
          "name": "stdout"
        }
      ]
    }
  ]
}